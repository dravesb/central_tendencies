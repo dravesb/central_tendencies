{
 "cells": [
  {
   "cell_type": "markdown",
   "metadata": {},
   "source": [
    "### Chapter 13: Going Deeper - The Mechanics of PyTorch"
   ]
  },
  {
   "cell_type": "markdown",
   "metadata": {},
   "source": [
    "### Sections: \n",
    "\n",
    "1. PyTorch Computational Graphs\n",
    "2. Tensor Objects for Model Updates\n",
    "3. Computing Gradients via Autograd\n",
    "4. Simplifying Implementations\n",
    "5. Projects \n",
    "    a. Predicing Fuel Efficiency\n",
    "    b. Classifying MNIST\n",
    "6. PyTorch Lightning"
   ]
  },
  {
   "cell_type": "markdown",
   "metadata": {},
   "source": [
    "### PyTorch Computational Graphs"
   ]
  },
  {
   "cell_type": "markdown",
   "metadata": {
    "vscode": {
     "languageId": "plaintext"
    }
   },
   "source": [
    "A few key features of why PyTorch is the go-to development tool include: \n",
    "1. Open source with private support (Facebook)\n",
    "2. Dynamic computational graphs will full visibility into the code \n",
    "3. GPU integration \n",
    "4. Mobile deployment for production use cases"
   ]
  },
  {
   "cell_type": "markdown",
   "metadata": {},
   "source": [
    "- PyTorch performs its computations based on DAGs. \n",
    "- It derives relationships between tensors based on these DAGs. \n",
    "\n",
    "\n"
   ]
  },
  {
   "cell_type": "markdown",
   "metadata": {},
   "source": [
    "Let's say we have a rank 0 tensors $a, b, c$ and we want to compute $z = 2(a-b) + c$. Then we can write this as a DAG \n",
    "\n",
    "- a, b --> r1 = a - b \n",
    "- r1 --> r2 = 2r1 \n",
    "- r1, c --> z = r2 + c"
   ]
  },
  {
   "cell_type": "markdown",
   "metadata": {},
   "source": [
    "We an implement this DAG directly in Torch: "
   ]
  },
  {
   "cell_type": "code",
   "execution_count": 1,
   "metadata": {},
   "outputs": [],
   "source": [
    "import torch\n",
    "\n",
    "\n",
    "def compute_z(a, b, c):\n",
    "    r1 = torch.sub(a, b)\n",
    "    r2 = torch.mul(r1, 2)\n",
    "    z = torch.add(r2, c)\n",
    "    return z"
   ]
  },
  {
   "cell_type": "markdown",
   "metadata": {},
   "source": [
    "We can impute scalar inputs to compute_z"
   ]
  },
  {
   "cell_type": "code",
   "execution_count": 4,
   "metadata": {},
   "outputs": [
    {
     "name": "stdout",
     "output_type": "stream",
     "text": [
      "scalar inputs: tensor(1)\n"
     ]
    }
   ],
   "source": [
    "print(\"scalar inputs:\", compute_z(torch.tensor(1), torch.tensor(2), torch.tensor(3)))"
   ]
  },
  {
   "cell_type": "markdown",
   "metadata": {},
   "source": [
    "We can also inpute parameters of higher order and torch will return tensors of that rank."
   ]
  },
  {
   "cell_type": "code",
   "execution_count": 8,
   "metadata": {},
   "outputs": [
    {
     "name": "stdout",
     "output_type": "stream",
     "text": [
      "rank 1 inputs: tensor([1])\n",
      "rank 2 inputs: tensor([[1]])\n"
     ]
    }
   ],
   "source": [
    "print(\n",
    "    \"rank 1 inputs:\", compute_z(torch.tensor([1]), torch.tensor([2]), torch.tensor([3]))\n",
    ")\n",
    "print(\n",
    "    \"rank 2 inputs:\",\n",
    "    compute_z(torch.tensor([[1]]), torch.tensor([[2]]), torch.tensor([[3]])),\n",
    ")"
   ]
  },
  {
   "cell_type": "markdown",
   "metadata": {},
   "source": [
    "### Tensor Objects for Model Updates"
   ]
  },
  {
   "cell_type": "markdown",
   "metadata": {},
   "source": [
    "In PyTroch there is a special tensor that is reserved for updating gradients which need to be stored for updating model parameters"
   ]
  },
  {
   "cell_type": "markdown",
   "metadata": {},
   "source": []
  }
 ],
 "metadata": {
  "kernelspec": {
   "display_name": ".venv",
   "language": "python",
   "name": "python3"
  },
  "language_info": {
   "codemirror_mode": {
    "name": "ipython",
    "version": 3
   },
   "file_extension": ".py",
   "mimetype": "text/x-python",
   "name": "python",
   "nbconvert_exporter": "python",
   "pygments_lexer": "ipython3",
   "version": "3.9.6"
  }
 },
 "nbformat": 4,
 "nbformat_minor": 2
}
